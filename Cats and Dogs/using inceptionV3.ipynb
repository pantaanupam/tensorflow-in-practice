{
  "nbformat": 4,
  "nbformat_minor": 0,
  "metadata": {
    "colab": {
      "name": "inceptionV3.ipynb",
      "provenance": [],
      "collapsed_sections": []
    },
    "kernelspec": {
      "name": "python3",
      "display_name": "Python 3"
    },
    "accelerator": "GPU"
  },
  "cells": [
    {
      "cell_type": "markdown",
      "metadata": {
        "id": "Xi4qiNgcz261",
        "colab_type": "text"
      },
      "source": [
        "# Loading images and image preprocessing"
      ]
    },
    {
      "cell_type": "code",
      "metadata": {
        "id": "KJB11nRkvzw5",
        "colab_type": "code",
        "colab": {
          "base_uri": "https://localhost:8080/",
          "height": 204
        },
        "outputId": "f2d9d7b3-9a97-4d7c-9b79-d303b4c3f2ad"
      },
      "source": [
        "!wget --no-check-certificate \\\n",
        "        https://storage.googleapis.com/mledu-datasets/cats_and_dogs_filtered.zip \\\n",
        "       -O /tmp/cats_and_dogs_filtered.zip"
      ],
      "execution_count": 1,
      "outputs": [
        {
          "output_type": "stream",
          "text": [
            "--2020-07-17 08:27:35--  https://storage.googleapis.com/mledu-datasets/cats_and_dogs_filtered.zip\n",
            "Resolving storage.googleapis.com (storage.googleapis.com)... 108.177.125.128, 74.125.203.128, 74.125.204.128, ...\n",
            "Connecting to storage.googleapis.com (storage.googleapis.com)|108.177.125.128|:443... connected.\n",
            "HTTP request sent, awaiting response... 200 OK\n",
            "Length: 68606236 (65M) [application/zip]\n",
            "Saving to: ‘/tmp/cats_and_dogs_filtered.zip’\n",
            "\n",
            "\r          /tmp/cats   0%[                    ]       0  --.-KB/s               \r         /tmp/cats_  24%[===>                ]  16.01M  53.8MB/s               \r        /tmp/cats_a  70%[=============>      ]  45.85M  92.1MB/s               \r/tmp/cats_and_dogs_ 100%[===================>]  65.43M   106MB/s    in 0.6s    \n",
            "\n",
            "2020-07-17 08:27:36 (106 MB/s) - ‘/tmp/cats_and_dogs_filtered.zip’ saved [68606236/68606236]\n",
            "\n"
          ],
          "name": "stdout"
        }
      ]
    },
    {
      "cell_type": "code",
      "metadata": {
        "id": "sQctkyogvzuz",
        "colab_type": "code",
        "colab": {}
      },
      "source": [
        "import os\n",
        "import zipfile\n",
        "\n",
        "local_zip = '/tmp/cats_and_dogs_filtered.zip'\n",
        "zip_ref = zipfile.ZipFile(local_zip, 'r')\n",
        "zip_ref.extractall('/tmp')\n",
        "zip_ref.close()"
      ],
      "execution_count": 2,
      "outputs": []
    },
    {
      "cell_type": "code",
      "metadata": {
        "id": "pjEN1ARz07ia",
        "colab_type": "code",
        "colab": {}
      },
      "source": [
        "train_dir = '/tmp/cats_and_dogs_filtered/train'\n",
        "validation_dir = '/tmp/cats_and_dogs_filtered/validation'\n",
        "\n",
        "train_cats_dir = os.path.join(train_dir, 'cats') \n",
        "train_dogs_dir = os.path.join(train_dir, 'dogs') \n",
        "validation_cats_dir = os.path.join(validation_dir, 'cats') \n",
        "validation_dogs_dir = os.path.join(validation_dir, 'dogs')"
      ],
      "execution_count": 3,
      "outputs": []
    },
    {
      "cell_type": "code",
      "metadata": {
        "id": "I4wrN3_7034H",
        "colab_type": "code",
        "colab": {
          "base_uri": "https://localhost:8080/",
          "height": 51
        },
        "outputId": "72a89fd6-4f32-41ec-f18f-da313272bc7f"
      },
      "source": [
        "from tensorflow.keras.preprocessing.image import ImageDataGenerator\n",
        "\n",
        "# Adding our data-augmentation parameters to ImageDataGenerator\n",
        "train_datagen = ImageDataGenerator(rescale=1.0/255.,\n",
        "                                   rotation_range = 0.2,\n",
        "                                   width_shift_range = 0.2,\n",
        "                                   height_shift_range = 0.2,\n",
        "                                   shear_range = 0.2,\n",
        "                                   zoom_range = 0.2,\n",
        "                                   horizontal_flip = True)\n",
        "test_datagen = ImageDataGenerator(rescale = 1.0/255.)\n",
        "\n",
        "# Flow training images in batches of 20\n",
        "train_generator = train_datagen.flow_from_directory(train_dir, \n",
        "                                                    batch_size = 20,\n",
        "                                                    class_mode = 'binary',\n",
        "                                                    target_size = (150, 150))\n",
        "validation_generator = test_datagen.flow_from_directory(validation_dir,\n",
        "                                                        batch_size = 20,\n",
        "                                                        class_mode = 'binary',\n",
        "                                                        target_size = (150, 150))\n"
      ],
      "execution_count": 4,
      "outputs": [
        {
          "output_type": "stream",
          "text": [
            "Found 2000 images belonging to 2 classes.\n",
            "Found 1000 images belonging to 2 classes.\n"
          ],
          "name": "stdout"
        }
      ]
    },
    {
      "cell_type": "markdown",
      "metadata": {
        "id": "S6ig47XXzwmo",
        "colab_type": "text"
      },
      "source": [
        "# Loading Inception Model"
      ]
    },
    {
      "cell_type": "code",
      "metadata": {
        "id": "0yE2L73dv0Fh",
        "colab_type": "code",
        "colab": {
          "base_uri": "https://localhost:8080/",
          "height": 204
        },
        "outputId": "da697880-1df7-40de-eb9d-549154e443d4"
      },
      "source": [
        "# inception model weights\n",
        "\n",
        "!wget --no-check-certificate \\\n",
        "    https://storage.googleapis.com/mledu-datasets/inception_v3_weights_tf_dim_ordering_tf_kernels_notop.h5 \\\n",
        "    -O /tmp/inception_v3_weights_tf_dim_ordering_tf_kernels_notop.h5"
      ],
      "execution_count": 5,
      "outputs": [
        {
          "output_type": "stream",
          "text": [
            "--2020-07-17 08:27:41--  https://storage.googleapis.com/mledu-datasets/inception_v3_weights_tf_dim_ordering_tf_kernels_notop.h5\n",
            "Resolving storage.googleapis.com (storage.googleapis.com)... 64.233.189.128, 108.177.97.128, 108.177.125.128, ...\n",
            "Connecting to storage.googleapis.com (storage.googleapis.com)|64.233.189.128|:443... connected.\n",
            "HTTP request sent, awaiting response... 200 OK\n",
            "Length: 87910968 (84M) [application/x-hdf]\n",
            "Saving to: ‘/tmp/inception_v3_weights_tf_dim_ordering_tf_kernels_notop.h5’\n",
            "\n",
            "\r          /tmp/ince   0%[                    ]       0  --.-KB/s               \r         /tmp/incep  28%[====>               ]  24.01M  92.5MB/s               \r        /tmp/incept  49%[========>           ]  41.58M  90.5MB/s               \r/tmp/inception_v3_w 100%[===================>]  83.84M   134MB/s    in 0.6s    \n",
            "\n",
            "2020-07-17 08:27:42 (134 MB/s) - ‘/tmp/inception_v3_weights_tf_dim_ordering_tf_kernels_notop.h5’ saved [87910968/87910968]\n",
            "\n"
          ],
          "name": "stdout"
        }
      ]
    },
    {
      "cell_type": "code",
      "metadata": {
        "id": "BvRb-0ZUv0D6",
        "colab_type": "code",
        "colab": {}
      },
      "source": [
        "import os\n",
        "import tensorflow as tf\n",
        "from tensorflow.keras.applications.inception_v3 import InceptionV3\n",
        "\n",
        "load_weights_file = '/tmp/inception_v3_weights_tf_dim_ordering_tf_kernels_notop.h5'\n",
        "\n",
        "pre_trained_model = InceptionV3(input_shape = (150, 150, 3),\n",
        "                                include_top = False,\n",
        "                                weights = None)\n",
        "\n",
        "pre_trained_model.load_weights(load_weights_file)"
      ],
      "execution_count": 6,
      "outputs": []
    },
    {
      "cell_type": "code",
      "metadata": {
        "id": "ajRB8BtNvz5z",
        "colab_type": "code",
        "colab": {
          "base_uri": "https://localhost:8080/",
          "height": 34
        },
        "outputId": "51980864-480b-4c20-de6c-8533909f2be9"
      },
      "source": [
        "# last layer\n",
        "last_layer = pre_trained_model.get_layer('mixed7')\n",
        "print('last layer output shape: ', last_layer.output_shape)\n",
        "last_output = last_layer.output"
      ],
      "execution_count": 7,
      "outputs": [
        {
          "output_type": "stream",
          "text": [
            "last layer output shape:  (None, 7, 7, 768)\n"
          ],
          "name": "stdout"
        }
      ]
    },
    {
      "cell_type": "markdown",
      "metadata": {
        "id": "Arqx1_6m3-bG",
        "colab_type": "text"
      },
      "source": [
        "# Building Model on top of pre_trained_model"
      ]
    },
    {
      "cell_type": "code",
      "metadata": {
        "id": "iBWK4uWrvz4S",
        "colab_type": "code",
        "colab": {}
      },
      "source": [
        "x = tf.keras.layers.Flatten()(last_output)\n",
        "\n",
        "x = tf.keras.layers.Dense(1024, activation='relu')(x)\n",
        "\n",
        "x = tf.keras.layers.Dropout(0.2)(x)\n",
        "\n",
        "x = tf.keras.layers.Dense(1, activation='sigmoid')(x)\n",
        "\n",
        "model = tf.keras.Model(pre_trained_model.input, x)"
      ],
      "execution_count": 8,
      "outputs": []
    },
    {
      "cell_type": "code",
      "metadata": {
        "id": "M4GF5SV6vz1J",
        "colab_type": "code",
        "colab": {}
      },
      "source": [
        "# model.summary()"
      ],
      "execution_count": 9,
      "outputs": []
    },
    {
      "cell_type": "code",
      "metadata": {
        "id": "CV2Pod1Dvzze",
        "colab_type": "code",
        "colab": {}
      },
      "source": [
        "from tensorflow.keras.optimizers import RMSprop\n",
        "\n",
        "model.compile(optimizer = RMSprop(lr=0.0001), \n",
        "              loss = 'binary_crossentropy', \n",
        "              metrics = ['accuracy'])"
      ],
      "execution_count": 10,
      "outputs": []
    },
    {
      "cell_type": "code",
      "metadata": {
        "id": "m9-sSkKP3AnK",
        "colab_type": "code",
        "colab": {
          "base_uri": "https://localhost:8080/",
          "height": 697
        },
        "outputId": "b9bbfe1f-3456-4d73-cb30-207933543a4b"
      },
      "source": [
        "history = model.fit(train_generator,\n",
        "                    validation_data = validation_generator,\n",
        "                    epochs = 20,\n",
        "                    verbose = 1)"
      ],
      "execution_count": 11,
      "outputs": [
        {
          "output_type": "stream",
          "text": [
            "Epoch 1/20\n",
            "100/100 [==============================] - 30s 299ms/step - loss: 0.3621 - accuracy: 0.8335 - val_loss: 0.1862 - val_accuracy: 0.9590\n",
            "Epoch 2/20\n",
            "100/100 [==============================] - 29s 289ms/step - loss: 0.1926 - accuracy: 0.9210 - val_loss: 0.2059 - val_accuracy: 0.9580\n",
            "Epoch 3/20\n",
            "100/100 [==============================] - 29s 286ms/step - loss: 0.1313 - accuracy: 0.9425 - val_loss: 0.3372 - val_accuracy: 0.9480\n",
            "Epoch 4/20\n",
            "100/100 [==============================] - 29s 290ms/step - loss: 0.0901 - accuracy: 0.9695 - val_loss: 0.6579 - val_accuracy: 0.9220\n",
            "Epoch 5/20\n",
            "100/100 [==============================] - 29s 286ms/step - loss: 0.1008 - accuracy: 0.9655 - val_loss: 0.2630 - val_accuracy: 0.9650\n",
            "Epoch 6/20\n",
            "100/100 [==============================] - 29s 289ms/step - loss: 0.1016 - accuracy: 0.9715 - val_loss: 0.3086 - val_accuracy: 0.9530\n",
            "Epoch 7/20\n",
            "100/100 [==============================] - 29s 287ms/step - loss: 0.0883 - accuracy: 0.9815 - val_loss: 0.2179 - val_accuracy: 0.9680\n",
            "Epoch 8/20\n",
            "100/100 [==============================] - 29s 288ms/step - loss: 0.0655 - accuracy: 0.9835 - val_loss: 0.3070 - val_accuracy: 0.9630\n",
            "Epoch 9/20\n",
            "100/100 [==============================] - 29s 288ms/step - loss: 0.0660 - accuracy: 0.9810 - val_loss: 0.6512 - val_accuracy: 0.9690\n",
            "Epoch 10/20\n",
            "100/100 [==============================] - 29s 286ms/step - loss: 0.0686 - accuracy: 0.9835 - val_loss: 0.6855 - val_accuracy: 0.9580\n",
            "Epoch 11/20\n",
            "100/100 [==============================] - 29s 288ms/step - loss: 0.0783 - accuracy: 0.9870 - val_loss: 0.3844 - val_accuracy: 0.9620\n",
            "Epoch 12/20\n",
            "100/100 [==============================] - 29s 288ms/step - loss: 0.0332 - accuracy: 0.9885 - val_loss: 0.9115 - val_accuracy: 0.9130\n",
            "Epoch 13/20\n",
            "100/100 [==============================] - 29s 288ms/step - loss: 0.0859 - accuracy: 0.9800 - val_loss: 0.5875 - val_accuracy: 0.9450\n",
            "Epoch 14/20\n",
            "100/100 [==============================] - 29s 287ms/step - loss: 0.0671 - accuracy: 0.9855 - val_loss: 0.2721 - val_accuracy: 0.9640\n",
            "Epoch 15/20\n",
            "100/100 [==============================] - 29s 286ms/step - loss: 0.0409 - accuracy: 0.9905 - val_loss: 0.5158 - val_accuracy: 0.9620\n",
            "Epoch 16/20\n",
            "100/100 [==============================] - 29s 287ms/step - loss: 0.0575 - accuracy: 0.9885 - val_loss: 3.5009 - val_accuracy: 0.8820\n",
            "Epoch 17/20\n",
            "100/100 [==============================] - 29s 286ms/step - loss: 0.0829 - accuracy: 0.9845 - val_loss: 1.1117 - val_accuracy: 0.9360\n",
            "Epoch 18/20\n",
            "100/100 [==============================] - 29s 288ms/step - loss: 0.0357 - accuracy: 0.9880 - val_loss: 0.3111 - val_accuracy: 0.9610\n",
            "Epoch 19/20\n",
            "100/100 [==============================] - 29s 287ms/step - loss: 0.0218 - accuracy: 0.9915 - val_loss: 0.2324 - val_accuracy: 0.9570\n",
            "Epoch 20/20\n",
            "100/100 [==============================] - 29s 288ms/step - loss: 0.0696 - accuracy: 0.9890 - val_loss: 0.3082 - val_accuracy: 0.9650\n"
          ],
          "name": "stdout"
        }
      ]
    },
    {
      "cell_type": "markdown",
      "metadata": {
        "id": "AVZ9EyxN4X_m",
        "colab_type": "text"
      },
      "source": [
        "# Visualizing model accuracy"
      ]
    },
    {
      "cell_type": "code",
      "metadata": {
        "id": "r7RwmH6t3AlX",
        "colab_type": "code",
        "colab": {
          "base_uri": "https://localhost:8080/",
          "height": 298
        },
        "outputId": "4a368746-40da-429d-ae89-d981afdc147c"
      },
      "source": [
        "import matplotlib.pyplot as plt\n",
        "acc = history.history['accuracy']\n",
        "val_acc = history.history['val_accuracy']\n",
        "loss = history.history['loss']\n",
        "val_loss = history.history['val_loss']\n",
        "\n",
        "epochs = range(len(acc))\n",
        "\n",
        "plt.plot(epochs, acc, 'r', label='Training accuracy')\n",
        "plt.plot(epochs, val_acc, 'b', label='Validation accuracy')\n",
        "plt.title('Training and validation accuracy')\n",
        "plt.legend(loc=0)\n",
        "plt.figure()\n",
        "\n",
        "\n",
        "plt.show()"
      ],
      "execution_count": 12,
      "outputs": [
        {
          "output_type": "display_data",
          "data": {
            "image/png": "[encoded data removed]",
            "text/plain": [
              "<Figure size 432x288 with 1 Axes>"
            ]
          },
          "metadata": {
            "tags": [],
            "needs_background": "light"
          }
        },
        {
          "output_type": "display_data",
          "data": {
            "text/plain": [
              "<Figure size 432x288 with 0 Axes>"
            ]
          },
          "metadata": {
            "tags": []
          }
        }
      ]
    },
    {
      "cell_type": "code",
      "metadata": {
        "id": "VyZe9CgU3Ajr",
        "colab_type": "code",
        "colab": {}
      },
      "source": [
        ""
      ],
      "execution_count": 12,
      "outputs": []
    },
    {
      "cell_type": "code",
      "metadata": {
        "id": "ErmMGb373Ag0",
        "colab_type": "code",
        "colab": {}
      },
      "source": [
        ""
      ],
      "execution_count": 12,
      "outputs": []
    },
    {
      "cell_type": "code",
      "metadata": {
        "id": "g0SQlcsBvznX",
        "colab_type": "code",
        "colab": {}
      },
      "source": [
        ""
      ],
      "execution_count": 12,
      "outputs": []
    },
    {
      "cell_type": "code",
      "metadata": {
        "id": "nZpeaepQvyGP",
        "colab_type": "code",
        "colab": {}
      },
      "source": [
        ""
      ],
      "execution_count": 12,
      "outputs": []
    }
  ]
}